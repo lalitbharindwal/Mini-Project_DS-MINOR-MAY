{
  "nbformat": 4,
  "nbformat_minor": 0,
  "metadata": {
    "colab": {
      "name": "Image Classification Using Python in ML.ipynb",
      "provenance": [],
      "collapsed_sections": [],
      "authorship_tag": "ABX9TyMmgeOLIG/caLYLHGCtO3nk",
      "include_colab_link": true
    },
    "kernelspec": {
      "display_name": "Python 3",
      "name": "python3"
    },
    "language_info": {
      "name": "python"
    }
  },
  "cells": [
    {
      "cell_type": "markdown",
      "metadata": {
        "id": "view-in-github",
        "colab_type": "text"
      },
      "source": [
        "<a href=\"https://colab.research.google.com/github/lalitbharindwal/Mini-Project_DS-MINOR-MAY/blob/main/Image_Classification_Using_Python_in_ML.ipynb\" target=\"_parent\"><img src=\"https://colab.research.google.com/assets/colab-badge.svg\" alt=\"Open In Colab\"/></a>"
      ]
    },
    {
      "cell_type": "code",
      "metadata": {
        "colab": {
          "base_uri": "https://localhost:8080/"
        },
        "id": "5AGz5JKVOZoH",
        "outputId": "fdc7ac7f-fb96-42a1-d1cb-0222066559b9"
      },
      "source": [
        "!pip install ipython-autotime\n",
        "%load_ext autotime"
      ],
      "execution_count": null,
      "outputs": [
        {
          "output_type": "stream",
          "text": [
            "Requirement already satisfied: ipython-autotime in /usr/local/lib/python3.7/dist-packages (0.3.1)\n",
            "Requirement already satisfied: ipython in /usr/local/lib/python3.7/dist-packages (from ipython-autotime) (5.5.0)\n",
            "Requirement already satisfied: pygments in /usr/local/lib/python3.7/dist-packages (from ipython->ipython-autotime) (2.6.1)\n",
            "Requirement already satisfied: decorator in /usr/local/lib/python3.7/dist-packages (from ipython->ipython-autotime) (4.4.2)\n",
            "Requirement already satisfied: setuptools>=18.5 in /usr/local/lib/python3.7/dist-packages (from ipython->ipython-autotime) (57.0.0)\n",
            "Requirement already satisfied: pickleshare in /usr/local/lib/python3.7/dist-packages (from ipython->ipython-autotime) (0.7.5)\n",
            "Requirement already satisfied: traitlets>=4.2 in /usr/local/lib/python3.7/dist-packages (from ipython->ipython-autotime) (5.0.5)\n",
            "Requirement already satisfied: prompt-toolkit<2.0.0,>=1.0.4 in /usr/local/lib/python3.7/dist-packages (from ipython->ipython-autotime) (1.0.18)\n",
            "Requirement already satisfied: simplegeneric>0.8 in /usr/local/lib/python3.7/dist-packages (from ipython->ipython-autotime) (0.8.1)\n",
            "Requirement already satisfied: pexpect; sys_platform != \"win32\" in /usr/local/lib/python3.7/dist-packages (from ipython->ipython-autotime) (4.8.0)\n",
            "Requirement already satisfied: ipython-genutils in /usr/local/lib/python3.7/dist-packages (from traitlets>=4.2->ipython->ipython-autotime) (0.2.0)\n",
            "Requirement already satisfied: wcwidth in /usr/local/lib/python3.7/dist-packages (from prompt-toolkit<2.0.0,>=1.0.4->ipython->ipython-autotime) (0.2.5)\n",
            "Requirement already satisfied: six>=1.9.0 in /usr/local/lib/python3.7/dist-packages (from prompt-toolkit<2.0.0,>=1.0.4->ipython->ipython-autotime) (1.15.0)\n",
            "Requirement already satisfied: ptyprocess>=0.5 in /usr/local/lib/python3.7/dist-packages (from pexpect; sys_platform != \"win32\"->ipython->ipython-autotime) (0.7.0)\n",
            "The autotime extension is already loaded. To reload it, use:\n",
            "  %reload_ext autotime\n",
            "time: 3.18 s (started: 2021-06-22 09:47:30 +00:00)\n"
          ],
          "name": "stdout"
        }
      ]
    },
    {
      "cell_type": "code",
      "metadata": {
        "id": "D3EvpreDd4jy"
      },
      "source": [
        ""
      ],
      "execution_count": null,
      "outputs": []
    },
    {
      "cell_type": "code",
      "metadata": {
        "id": "3PAR1qtXd6tk"
      },
      "source": [
        ""
      ],
      "execution_count": null,
      "outputs": []
    },
    {
      "cell_type": "code",
      "metadata": {
        "colab": {
          "base_uri": "https://localhost:8080/"
        },
        "id": "Z5i81wIlOmrT",
        "outputId": "8e77e887-36ef-4527-9a54-4350d1503bf6"
      },
      "source": [
        "!pip install bing-image--downloader"
      ],
      "execution_count": null,
      "outputs": [
        {
          "output_type": "stream",
          "text": [
            "Requirement already satisfied: bing-image--downloader in /usr/local/lib/python3.7/dist-packages (1.1.1)\n",
            "time: 2.95 s (started: 2021-06-22 09:47:33 +00:00)\n"
          ],
          "name": "stdout"
        }
      ]
    },
    {
      "cell_type": "code",
      "metadata": {
        "colab": {
          "base_uri": "https://localhost:8080/"
        },
        "id": "mPc92QrbOvrc",
        "outputId": "21925db2-eb80-4477-be2e-194bbd2b03a8"
      },
      "source": [
        "!mkdir images"
      ],
      "execution_count": null,
      "outputs": [
        {
          "output_type": "stream",
          "text": [
            "mkdir: cannot create directory ‘images’: File exists\n",
            "time: 126 ms (started: 2021-06-22 09:47:36 +00:00)\n"
          ],
          "name": "stdout"
        }
      ]
    },
    {
      "cell_type": "code",
      "metadata": {
        "colab": {
          "base_uri": "https://localhost:8080/"
        },
        "id": "F0EQi5knOy3G",
        "outputId": "4ad0c369-dbe5-4139-c6ba-20d54e61584f"
      },
      "source": [
        "from bing_image_downloader import downloader\n",
        "downloader.download(\"green grapes\",limit=30,output_dir='images',adult_filter_off=True)"
      ],
      "execution_count": null,
      "outputs": [
        {
          "output_type": "stream",
          "text": [
            "[%] Downloading Images to /content/images/green grapes\n",
            "\n",
            "\n",
            "[!!]Indexing page: 1\n",
            "\n",
            "[%] Indexed 30 Images on Page 1.\n",
            "\n",
            "===============================================\n",
            "\n",
            "[%] Downloading Image #1 from https://i.pinimg.com/originals/3c/ed/55/3ced55a8f7ab30b3f1a4699b3debe12d.jpg\n",
            "[%] File Downloaded !\n",
            "\n",
            "[%] Downloading Image #2 from https://upload.wikimedia.org/wikipedia/commons/d/d2/Green_Grapes_for_Poster.jpg\n",
            "[%] File Downloaded !\n",
            "\n",
            "[%] Downloading Image #3 from https://i.pinimg.com/474x/68/0c/85/680c851248eabcbab382a6d2fd6f16d5--texas-gardening-green-grapes.jpg\n",
            "[%] File Downloaded !\n",
            "\n",
            "[%] Downloading Image #4 from http://www.cuzcoeats.com/wp-content/uploads/2015/12/GreenGrapes-620x350.jpg\n",
            "[%] File Downloaded !\n",
            "\n",
            "[%] Downloading Image #5 from https://i.pinimg.com/originals/70/b7/9e/70b79ef2cee94aa3603bc95746585578.jpg\n",
            "[%] File Downloaded !\n",
            "\n",
            "[%] Downloading Image #6 from https://upload.wikimedia.org/wikipedia/commons/thumb/1/15/Green_grapes.jpg/1280px-Green_grapes.jpg\n",
            "[%] File Downloaded !\n",
            "\n",
            "[%] Downloading Image #7 from https://factorydirectcraft.com/pimages/20160609103843-663887/artificial_green_grape_cluster_swag.jpg\n",
            "[%] File Downloaded !\n",
            "\n",
            "[%] Downloading Image #8 from https://jasminevineyards.com/wp-content/uploads/2018/12/grapes-green-1900-1080x675.png\n",
            "[%] File Downloaded !\n",
            "\n",
            "[%] Downloading Image #9 from https://i.pinimg.com/736x/b8/a7/8b/b8a78b3af66be75f73d35e343a76cf22--grape-vines-silly-things.jpg\n",
            "[%] File Downloaded !\n",
            "\n",
            "[%] Downloading Image #10 from https://gatesfarmshop.co.uk/wp-content/uploads/IMG-20200509-WA0070.jpg\n",
            "[%] File Downloaded !\n",
            "\n",
            "[%] Downloading Image #11 from https://i.pinimg.com/originals/ba/e1/05/bae105d0c675f20068d64ea512d59862.jpg\n",
            "[%] File Downloaded !\n",
            "\n",
            "[%] Downloading Image #12 from https://wakadreams.com/wp-content/uploads/2020/10/dream_of_green_grapes.jpg\n",
            "[%] File Downloaded !\n",
            "\n",
            "[%] Downloading Image #13 from https://warrenmars.com/visual_art/theory/colour_wheel/green_grape/green_grapes.jpg\n",
            "[%] File Downloaded !\n",
            "\n",
            "[%] Downloading Image #14 from https://www.almanac.com/sites/default/files/styles/opengraph/public/image_nodes/green-grapes.jpg?itok=XI4NteEl\n",
            "[%] File Downloaded !\n",
            "\n",
            "[%] Downloading Image #15 from https://www.dhresource.com/0x0s/f2-albu-g2-M00-8D-8D-rBVaG1ZzuMGAYWswAAfcUo1JHQ4563.jpg/100-true-golden-finger-green-sweet-grape.jpg\n",
            "[%] File Downloaded !\n",
            "\n",
            "[%] Downloading Image #16 from http://tried-and-true.com/wp-content/uploads/2011/01/Green-Grapes-Web.jpg\n",
            "[%] File Downloaded !\n",
            "\n",
            "[%] Downloading Image #17 from https://factorydirectcraft.com/pimages/20200430124132-301509/artificial_green_grape_cluster_true_vintage.jpg\n",
            "[%] File Downloaded !\n",
            "\n",
            "[%] Downloading Image #18 from http://tried-and-true.com/wp-content/uploads/2011/01/Green-Grapes-web-2.jpg\n",
            "[%] File Downloaded !\n",
            "\n",
            "[%] Downloading Image #19 from https://media.grocerygateway.com/medias/4022-1-base-conversionFormat-1200-conversionFormat.jpg?context=bWFzdGVyfGltYWdlc3wzMzM0M3xpbWFnZS9qcGVnfGltYWdlcy9oNTEvaGRhLzg4MzYxMTQwNTUxOTguanBnfGIxMDYzNzZhYjk3ZmQwYTcxNjI3Mzg1MTNhNTIxYzFlYmVjZTBjMGY1YWZiODBhNTRiNDFlYTY3OGQwNTlmYWE\n",
            "[%] File Downloaded !\n",
            "\n",
            "[%] Downloading Image #20 from http://4.bp.blogspot.com/_2UbsSBz9ckE/TJAbxU1O3fI/AAAAAAAABWg/wzLUOqqCTxE/s1600/folle-blanche-wallpapers_1600x1200-Wallpaper.jpg\n",
            "[%] File Downloaded !\n",
            "\n",
            "[%] Downloading Image #21 from https://upload.wikimedia.org/wikipedia/commons/thumb/0/0e/Green_Grape.JPG/1200px-Green_Grape.JPG\n",
            "[%] File Downloaded !\n",
            "\n",
            "[%] Downloading Image #22 from https://static.wixstatic.com/media/371425_4ea04700cd054ef6a21e45a67b8ccd25~mv2_d_2000_3000_s_2.jpg/v1/fill/w_1000,h_1500,al_c,q_90,usm_0.66_1.00_0.01/371425_4ea04700cd054ef6a21e45a67b8ccd25~mv2_d_2000_3000_s_2.jpg\n",
            "[%] File Downloaded !\n",
            "\n",
            "[%] Downloading Image #23 from https://i.pinimg.com/originals/23/59/01/235901cdae68f7c21a0b815b27919643.jpg\n",
            "[%] File Downloaded !\n",
            "\n",
            "[%] Downloading Image #24 from http://2.bp.blogspot.com/-YZhrgXNa0QA/UEEBTdzASxI/AAAAAAAADAU/60NvVi45UD8/s1600/Snapseed.jpg\n",
            "[%] File Downloaded !\n",
            "\n",
            "[%] Downloading Image #25 from https://ordery.my/skin/uploads/sites/6/2020/04/FC_GrapesGreen-op.jpg\n",
            "[%] File Downloaded !\n",
            "\n",
            "[%] Downloading Image #26 from https://4.bp.blogspot.com/-0ijExeutWe0/TixDNyNokvI/AAAAAAAAAV4/Pe7KVkZbJoQ/s1600/grapes.JPG\n",
            "[%] File Downloaded !\n",
            "\n",
            "[%] Downloading Image #27 from https://www.cooksinfo.com/wp-content/uploads/green-grapes.jpg\n",
            "[%] File Downloaded !\n",
            "\n",
            "[%] Downloading Image #28 from https://img.livestrong.com/375/clsd/getty/857d0def66ce4fa3b7b553dcf9a8e3ff.jpg\n",
            "[%] File Downloaded !\n",
            "\n",
            "[%] Downloading Image #29 from http://tried-and-true.com/wp-content/uploads/2011/01/Tomato-Green-Grape.jpg\n",
            "[%] File Downloaded !\n",
            "\n",
            "[%] Downloading Image #30 from https://i.pinimg.com/originals/55/60/83/556083047577969cb6250e172b0d11ff.png\n",
            "[%] File Downloaded !\n",
            "\n",
            "\n",
            "\n",
            "[%] Done. Downloaded 30 images.\n",
            "===============================================\n",
            "\n",
            "Please show your support here\n",
            "https://www.buymeacoffee.com/gurugaurav\n",
            "\n",
            "===============================================\n",
            "\n",
            "time: 6.7 s (started: 2021-06-22 09:47:36 +00:00)\n"
          ],
          "name": "stdout"
        }
      ]
    },
    {
      "cell_type": "code",
      "metadata": {
        "colab": {
          "base_uri": "https://localhost:8080/"
        },
        "id": "zw5q7KoYO62d",
        "outputId": "bd6bdf61-446e-47ce-a3db-5ddc34a617dc"
      },
      "source": [
        "from bing_image_downloader import downloader\n",
        "downloader.download(\"locomotive\",limit=30,output_dir='images',adult_filter_off=True)"
      ],
      "execution_count": null,
      "outputs": [
        {
          "output_type": "stream",
          "text": [
            "[%] Downloading Images to /content/images/locomotive\n",
            "\n",
            "\n",
            "[!!]Indexing page: 1\n",
            "\n",
            "[%] Indexed 30 Images on Page 1.\n",
            "\n",
            "===============================================\n",
            "\n",
            "[%] Downloading Image #1 from http://www.railpictures.net/images/d1/5/3/0/4530.1311599573.jpg\n",
            "[%] File Downloaded !\n",
            "\n",
            "[%] Downloading Image #2 from https://i.ytimg.com/vi/hdcxSQZpS6c/maxresdefault.jpg\n",
            "[%] File Downloaded !\n",
            "\n",
            "[%] Downloading Image #3 from https://live.staticflickr.com/3318/4582574619_6e1a19e18b_b.jpg\n",
            "[%] File Downloaded !\n",
            "\n",
            "[%] Downloading Image #4 from http://i.ytimg.com/vi/3fz6PCYd7TA/maxresdefault.jpg\n",
            "[%] File Downloaded !\n",
            "\n",
            "[%] Downloading Image #5 from https://www.warwickshirerailways.com/gwr/fennycomptongwr/gwrfc551.jpg\n",
            "[%] File Downloaded !\n",
            "\n",
            "[%] Downloading Image #6 from http://cs.trains.com/cfs-file.ashx/__key/communityserver-blogs-components-weblogfiles/00-00-00-11-15/1768.prr_2D00_gg1_2D00_4935_2D00_ivy_2D00_city.jpg\n",
            "[%] File Downloaded !\n",
            "\n",
            "[%] Downloading Image #7 from http://3.bp.blogspot.com/-L2pD3yo8lXs/TuNJoPpVuMI/AAAAAAAAA-E/5PVlf02nbF4/w1200-h630-p-k-no-nu/ss_bea9c7efb7f31264229711e9f2fc28482e5bfa60.1920x1080.jpg\n",
            "[%] File Downloaded !\n",
            "\n",
            "[%] Downloading Image #8 from https://rgusrail.com/album/wvcphrhs/co_1308_08.jpg\n",
            "[%] File Downloaded !\n",
            "\n",
            "[%] Downloading Image #9 from http://www.american-rails.com/images/ArleeMT21735.jpg\n",
            "[%] File Downloaded !\n",
            "\n",
            "[%] Downloading Image #10 from https://i.pinimg.com/originals/ce/73/7c/ce737c04269253c3b6cdb9d99cea6324.jpg\n",
            "[%] File Downloaded !\n",
            "\n",
            "[%] Downloading Image #11 from https://i5.walmartimages.com/asr/e511538f-69b6-4103-aaac-53e6f41ae3e5_1.448f8080b19a63081cc25cf6a3e3d90b.jpeg\n",
            "[%] File Downloaded !\n",
            "\n",
            "[%] Downloading Image #12 from https://i.pinimg.com/originals/c5/5f/c1/c55fc1f1a4654268550004cb2babddd1.jpg\n",
            "[%] File Downloaded !\n",
            "\n",
            "[%] Downloading Image #13 from https://upload.wikimedia.org/wikipedia/commons/4/4b/CMRR_Locomotive_29_Side_View.jpg\n",
            "[%] File Downloaded !\n",
            "\n",
            "[%] Downloading Image #14 from http://upload.wikimedia.org/wikipedia/commons/4/4f/RRMOP_3936.JPG\n",
            "[%] File Downloaded !\n",
            "\n",
            "[%] Downloading Image #15 from https://1.bp.blogspot.com/-NpNKe4Hdsjs/U4UKDcoL-cI/AAAAAAAAGsY/qe4rbMK9O-Y/s1600/41001+Didcot+25May14+a.jpg\n",
            "[%] File Downloaded !\n",
            "\n",
            "[%] Downloading Image #16 from https://i.pinimg.com/736x/9e/1e/75/9e1e750a777d62b35f9c0e8503c8bfca--steam-locomotive-trains.jpg\n",
            "[%] File Downloaded !\n",
            "\n",
            "[%] Downloading Image #17 from https://www.expressandstar.com/resizer/CBedWTdxO8ze8NEWfG_hbhL3kKk=/1000x0/filters:quality(100)/arc-anglerfish-arc2-prod-expressandstar-mna.s3.amazonaws.com/public/ER5QNOPDYJHKXLZ36ERA2X3PZQ\n",
            "[%] File Downloaded !\n",
            "\n",
            "[%] Downloading Image #18 from http://cdn.thinglink.me/api/image/622808184804868097/1024/10/scaletowidth/0/0/1/1/false/true?wait=true\n",
            "[%] File Downloaded !\n",
            "\n",
            "[%] Downloading Image #19 from https://www.truewestmagazine.com/wp-content/uploads/2016/07/489-Cascade.jpg\n",
            "[%] File Downloaded !\n",
            "\n",
            "[%] Downloading Image #20 from https://www.trainworld.com/upload/iblock/028/23001.jpg\n",
            "[!] Issue getting: https://www.trainworld.com/upload/iblock/028/23001.jpg\n",
            "[!] Error:: HTTP Error 404: Not Found\n",
            "[%] Downloading Image #20 from https://www.urbanghostsmedia.com/wp-content/uploads/2016/03/class-58-scrap-rotherham-7.jpg\n",
            "[%] File Downloaded !\n",
            "\n",
            "[%] Downloading Image #21 from https://i.ebayimg.com/images/i/112924970928-0-1/s-l1000.jpg\n",
            "[%] File Downloaded !\n",
            "\n",
            "[%] Downloading Image #22 from https://i.pinimg.com/originals/57/80/48/5780484569916eb9cb457ae62a9decbb.jpg\n",
            "[%] File Downloaded !\n",
            "\n",
            "[%] Downloading Image #23 from https://i.ebayimg.com/images/i/121132696276-0-1/s-l1000.jpg\n",
            "[%] File Downloaded !\n",
            "\n",
            "[%] Downloading Image #24 from https://i.ebayimg.com/images/i/151940026468-0-1/s-l1000.jpg\n",
            "[%] File Downloaded !\n",
            "\n",
            "[%] Downloading Image #25 from https://www.trainworld.com/upload/iblock/1dd/201.PNG\n",
            "[!] Issue getting: https://www.trainworld.com/upload/iblock/1dd/201.PNG\n",
            "[!] Error:: HTTP Error 404: Not Found\n",
            "[%] Downloading Image #25 from http://3.bp.blogspot.com/_-gnhHvSipxA/TPDBdWy4dyI/AAAAAAAABOo/AQAYIS4UwBg/s1600/777+unstoppable.jpg\n",
            "[%] File Downloaded !\n",
            "\n",
            "[%] Downloading Image #26 from https://i.pinimg.com/originals/69/d5/de/69d5de3f40c57d2e5692712ba3ca7b3d.jpg\n",
            "[%] File Downloaded !\n",
            "\n",
            "[%] Downloading Image #27 from https://i.pinimg.com/originals/c2/1a/91/c21a91d6772928d542d48af49e2eea4f.jpg\n",
            "[%] File Downloaded !\n",
            "\n",
            "[%] Downloading Image #28 from https://i.pinimg.com/736x/ef/c8/f7/efc8f773d4f394bd94e28b03ef344dd5--steam-locomotive-hobbies.jpg\n",
            "[%] File Downloaded !\n",
            "\n",
            "\n",
            "\n",
            "[!!]Indexing page: 2\n",
            "\n",
            "[%] Indexed 35 Images on Page 2.\n",
            "\n",
            "===============================================\n",
            "\n",
            "[%] Downloading Image #29 from http://www.railpictures.net/images/d1/5/3/0/4530.1311599573.jpg\n",
            "[%] File Downloaded !\n",
            "\n",
            "[%] Downloading Image #30 from https://i.ytimg.com/vi/hdcxSQZpS6c/maxresdefault.jpg\n",
            "[%] File Downloaded !\n",
            "\n",
            "\n",
            "\n",
            "[%] Done. Downloaded 30 images.\n",
            "===============================================\n",
            "\n",
            "Please show your support here\n",
            "https://www.buymeacoffee.com/gurugaurav\n",
            "\n",
            "===============================================\n",
            "\n",
            "time: 8.56 s (started: 2021-06-22 09:47:43 +00:00)\n"
          ],
          "name": "stdout"
        }
      ]
    },
    {
      "cell_type": "code",
      "metadata": {
        "colab": {
          "base_uri": "https://localhost:8080/"
        },
        "id": "ufbHBI3NPBmU",
        "outputId": "f9588215-4d5e-4c18-c808-86a9c5af7605"
      },
      "source": [
        "from bing_image_downloader import downloader\n",
        "downloader.download(\"green parrot\",limit=30,output_dir='images',adult_filter_off=True)"
      ],
      "execution_count": null,
      "outputs": [
        {
          "output_type": "stream",
          "text": [
            "[%] Downloading Images to /content/images/green parrot\n",
            "\n",
            "\n",
            "[!!]Indexing page: 1\n",
            "\n",
            "[%] Indexed 30 Images on Page 1.\n",
            "\n",
            "===============================================\n",
            "\n",
            "[%] Downloading Image #1 from https://banner2.kisspng.com/20180213/jfe/kisspng-amazon-parrot-bird-true-parrot-computer-file-parrot-5a82dfd75a94c5.368510161518526423371.jpg\n",
            "[%] File Downloaded !\n",
            "\n",
            "[%] Downloading Image #2 from https://i.pinimg.com/originals/ee/35/c7/ee35c77e69839b02801f43802033bcc4.jpg\n",
            "[%] File Downloaded !\n",
            "\n",
            "[%] Downloading Image #3 from http://upload.wikimedia.org/wikipedia/commons/9/94/Buberel_green_parrot.jpg\n",
            "[%] File Downloaded !\n",
            "\n",
            "[%] Downloading Image #4 from https://i.pinimg.com/originals/34/12/71/341271c6ad4c6e76e40ddbb42b58a37c.jpg\n",
            "[%] File Downloaded !\n",
            "\n",
            "[%] Downloading Image #5 from https://lh6.googleusercontent.com/proxy/MAvkKcLGr-1F0ZooZhPselvXnCrqjVrEPxkcTlSRURR91ihXj5pMK8jsgbGf5SBX2Goy69qFbi6QGWGMA6Iuci-Vxayh_GDJrwFxA7iutzmwuh0GAYnfcN0MF5kL4vRzDZv8eezKiv1pMI0fa8xn14qKAHRlXuaXLx9WzFAdPsN8zN4U9-cM0M3dAuYTCyiVeSLwraNLpUQPQQ9epaDn8-ZrzYS7kPHRnz4PB9qygxTqw_0rTqZTdKRTDi9teEaLGDfhKimjTvSUwO3YPmJL4imHDrtkJFae86ft1yGzBdrxwEeMMzxt_DVLWcZ49xsVFsooEIhW6nQi0d-41jHjb1tdNBJ1=w1200-h630-p-k-no-nu\n",
            "[%] File Downloaded !\n",
            "\n",
            "[%] Downloading Image #6 from https://i.pinimg.com/originals/03/8b/58/038b58c262d3e3731683291a722a9e4d.jpg\n",
            "[%] File Downloaded !\n",
            "\n",
            "[%] Downloading Image #7 from https://allinformative.com/wp-content/uploads/2020/11/Ombre-Blue-Sky-Facebook-Post-3.jpg\n",
            "[%] File Downloaded !\n",
            "\n",
            "[%] Downloading Image #8 from https://animalia-life.com/data_images/parrot/parrot1.jpg\n",
            "[%] File Downloaded !\n",
            "\n",
            "[%] Downloading Image #9 from https://pixfeeds.com/images/birds/parrots/1280-1200-516953202-green-and-yellow-parrot.jpg\n",
            "[%] File Downloaded !\n",
            "\n",
            "[%] Downloading Image #10 from https://live.staticflickr.com/8393/8704651301_e52819604d_b.jpg\n",
            "[%] File Downloaded !\n",
            "\n",
            "[%] Downloading Image #11 from https://i1.treknature.com/photos/3258/parrot1960.jpg\n",
            "[%] File Downloaded !\n",
            "\n",
            "[%] Downloading Image #12 from http://www.singing-wings-aviary.com/wp-content/uploads/2017/11/Parrot.jpg\n",
            "[%] File Downloaded !\n",
            "\n",
            "[%] Downloading Image #13 from https://pixfeeds.com/images/birds/parrots/1280-1200-660506828-parrot-on-branch.jpg\n",
            "[%] File Downloaded !\n",
            "\n",
            "[%] Downloading Image #14 from https://www.thesprucepets.com/thmb/LGQH9x6KF6uZK3NH0Q50AzGP0nk=/960x0/filters:no_upscale():max_bytes(150000):strip_icc()/lilac-crowned-amazon-638197502-5ace5c1ea474be00360d32c8.jpg\n",
            "[%] File Downloaded !\n",
            "\n",
            "[%] Downloading Image #15 from https://pixfeeds.com/images/birds/parrots/1280-1200-516250626-two-cute-parrot.jpg\n",
            "[%] File Downloaded !\n",
            "\n",
            "[%] Downloading Image #16 from https://pngimg.com/uploads/parrot/parrot_PNG730.png\n",
            "[%] File Downloaded !\n",
            "\n",
            "[%] Downloading Image #17 from https://pixfeeds.com/images/birds/parrots/1280-1200-139878103-little-parrots.jpg\n",
            "[%] File Downloaded !\n",
            "\n",
            "[%] Downloading Image #18 from https://pixfeeds.com/images/birds/parrots/1280-1200-485717506-red-neck-parrots.jpg\n",
            "[%] File Downloaded !\n",
            "\n",
            "[%] Downloading Image #19 from https://cuteparrots.com/media/2020/02/Amazon_parrots850.jpg\n",
            "[!] Issue getting: https://cuteparrots.com/media/2020/02/Amazon_parrots850.jpg\n",
            "[!] Error:: HTTP Error 404: Not Found\n",
            "[%] Downloading Image #19 from http://i1.treklens.com/photos/12402/green_parrot.jpg\n",
            "[%] File Downloaded !\n",
            "\n",
            "[%] Downloading Image #20 from https://s-media-cache-ak0.pinimg.com/564x/4e/e9/63/4ee9638d5caea90283f8d055fc4cb457.jpg\n",
            "[%] File Downloaded !\n",
            "\n",
            "[%] Downloading Image #21 from https://upload.wikimedia.org/wikipedia/commons/9/92/Fruit_time_for_parrots_in_Green_World_Ecological_Farm.jpg\n",
            "[%] File Downloaded !\n",
            "\n",
            "[%] Downloading Image #22 from https://pixfeeds.com/images/birds/parrots/1280-1200-528912940-parrot-cleaning-itself.jpg\n",
            "[%] File Downloaded !\n",
            "\n",
            "[%] Downloading Image #23 from https://pixfeeds.com/images/birds/parrots/1280-1200-92161797-red-parrots.jpg\n",
            "[%] File Downloaded !\n",
            "\n",
            "[%] Downloading Image #24 from https://pixfeeds.com/images/birds/parrots/1280-1200-480443304-colorful-parrots.jpg\n",
            "[%] File Downloaded !\n",
            "\n",
            "[%] Downloading Image #25 from https://pixfeeds.com/images/birds/parrots/1280-1200-498314445-parrot-bird.jpg\n",
            "[%] File Downloaded !\n",
            "\n",
            "[%] Downloading Image #26 from https://pixfeeds.com/images/birds/parrots/1280-1200-516798638-itching-red-parrot.jpg\n",
            "[%] File Downloaded !\n",
            "\n",
            "[%] Downloading Image #27 from https://www.trbimg.com/img-5c6dec1a/turbine/sd-cm-plob-peninsula-parrots-20190220\n"
          ],
          "name": "stdout"
        }
      ]
    },
    {
      "cell_type": "code",
      "metadata": {
        "id": "neUC-VwjPHt8"
      },
      "source": [
        "from bing_image_downloader import downloader\n",
        "downloader.download(\"motorcycle\",limit=30,output_dir='images',adult_filter_off=True)"
      ],
      "execution_count": null,
      "outputs": []
    },
    {
      "cell_type": "code",
      "metadata": {
        "id": "PghphfLOPN8N"
      },
      "source": [
        "from bing_image_downloader import downloader\n",
        "downloader.download(\"tiger\",limit=30,output_dir='images',adult_filter_off=True)"
      ],
      "execution_count": null,
      "outputs": []
    },
    {
      "cell_type": "code",
      "metadata": {
        "id": "aqVrrWxoPTYh"
      },
      "source": [
        "import numpy as np\n",
        "a = np.array([[1,2,3,4,5],\n",
        "             [4,5,6,7,8]])\n",
        "a.ndim"
      ],
      "execution_count": null,
      "outputs": []
    },
    {
      "cell_type": "code",
      "metadata": {
        "id": "ecKw4ft2PaVj"
      },
      "source": [
        "a.flatten()"
      ],
      "execution_count": null,
      "outputs": []
    },
    {
      "cell_type": "code",
      "metadata": {
        "colab": {
          "background_save": true
        },
        "id": "RmUWz5hbPeXL",
        "outputId": "d7189160-afd3-4c43-aa88-5de801801bd8"
      },
      "source": [
        "#Preprocessing\n",
        "#1. Resize\n",
        "#2. Flattening\n",
        "import os\n",
        "import matplotlib.pyplot as plt\n",
        "import numpy as np\n",
        "from skimage.io import imread\n",
        "from skimage.transform import resize\n",
        "\n",
        "target = []\n",
        "images = []\n",
        "flat_data = []\n",
        "DATADIR = '/content/images'\n",
        "CATEGORIES = ['motorcycle','green grapes','green parrot','locomotive','tiger']\n",
        "for category in CATEGORIES:\n",
        "  class_num = CATEGORIES.index(category)  #Label Encoding the Values\n",
        "  path = os.path.join(DATADIR,category)   #Create path to use all the images\n",
        "  for img in os.listdir(path):\n",
        "    img_array = imread(os.path.join(path,img))\n",
        "    #print(img_array.shape)\n",
        "    #plt.imshow(img_array)\n",
        "    img_resized = resize(img_array,(150,150,3)) #Normalizes the value from 0 to 1\n",
        "    flat_data.append(img_resized.flatten())\n",
        "    images.append(img_resized)\n",
        "    target.append(class_num)\n",
        "\n",
        "flat_data = np.array(flat_data)\n",
        "target = np.array(target)\n",
        "images = np.array(images)"
      ],
      "execution_count": null,
      "outputs": [
        {
          "output_type": "stream",
          "text": [
            "time: 45.1 s (started: 2021-06-22 09:48:14 +00:00)\n"
          ],
          "name": "stdout"
        }
      ]
    },
    {
      "cell_type": "code",
      "metadata": {
        "colab": {
          "background_save": true
        },
        "id": "j72PXBd9Pscv",
        "outputId": "7e0dabcb-cfe0-4d05-c61b-45f952fbc5b4"
      },
      "source": [
        "unique,count = np.unique(target,return_counts=True)\n",
        "plt.bar(CATEGORIES,count)"
      ],
      "execution_count": null,
      "outputs": [
        {
          "output_type": "execute_result",
          "data": {
            "text/plain": [
              "<BarContainer object of 5 artists>"
            ]
          },
          "metadata": {
            "tags": []
          },
          "execution_count": 0
        },
        {
          "output_type": "display_data",
          "data": {
            "image/png": "[encoded data removed]",
            "text/plain": [
              "<Figure size 432x288 with 1 Axes>"
            ]
          },
          "metadata": {
            "tags": []
          }
        },
        {
          "output_type": "stream",
          "text": [
            "time: 184 ms (started: 2021-06-22 09:48:59 +00:00)\n"
          ],
          "name": "stdout"
        }
      ]
    },
    {
      "cell_type": "code",
      "metadata": {
        "colab": {
          "background_save": true
        },
        "id": "g1d1E6nYPxBq",
        "outputId": "8a9fced6-449a-41ef-ade2-1d1823573df8"
      },
      "source": [
        "#Split data into Training and test\n",
        "from sklearn.model_selection import train_test_split\n",
        "x_train,x_test,y_train,y_test = train_test_split(flat_data,target,test_size=0.3,random_state=100)"
      ],
      "execution_count": null,
      "outputs": [
        {
          "output_type": "stream",
          "text": [
            "time: 36.3 ms (started: 2021-06-22 09:49:00 +00:00)\n"
          ],
          "name": "stdout"
        }
      ]
    },
    {
      "cell_type": "code",
      "metadata": {
        "id": "LD2domOTP005"
      },
      "source": [
        "from sklearn.model_selection import GridSearchCV\n",
        "from sklearn import svm\n",
        "param_grid = [\n",
        "              {'C':[1,10,100,1000],'kernel':['linear']},\n",
        "              {'C':[1,10,100,1000],'gamma':[0.001,0.0001],'kernel':['rbf']},\n",
        "]\n",
        "svc = svm.SVC(probability=True)\n",
        "clf = GridSearchCV(svc,param_grid)\n",
        "clf.fit(x_train,y_train)"
      ],
      "execution_count": null,
      "outputs": []
    },
    {
      "cell_type": "code",
      "metadata": {
        "id": "J3VifQZOSVVC"
      },
      "source": [
        "y_pred = clf.predict(x_test)\n",
        "y_pred"
      ],
      "execution_count": null,
      "outputs": []
    },
    {
      "cell_type": "code",
      "metadata": {
        "id": "UawTsdF2Scti"
      },
      "source": [
        "y_test"
      ],
      "execution_count": null,
      "outputs": []
    },
    {
      "cell_type": "code",
      "metadata": {
        "id": "905tHTxLSg2T"
      },
      "source": [
        "from sklearn.metrics import accuracy_score,confusion_matrix"
      ],
      "execution_count": null,
      "outputs": []
    },
    {
      "cell_type": "code",
      "metadata": {
        "id": "l94HIwGmSios"
      },
      "source": [
        "confusion_matrix(y_pred,y_test)"
      ],
      "execution_count": null,
      "outputs": []
    },
    {
      "cell_type": "code",
      "metadata": {
        "id": "lk_2PCgBSlRH"
      },
      "source": [
        "#Save the model using Pickle library\n",
        "import pickle\n",
        "pickle.dump(clf,open('img_model.p','wb'))"
      ],
      "execution_count": null,
      "outputs": []
    },
    {
      "cell_type": "code",
      "metadata": {
        "id": "LyJ-IKE4Sr_z"
      },
      "source": [
        "model = pickle.load(open('img_model.p','rb'))"
      ],
      "execution_count": null,
      "outputs": []
    },
    {
      "cell_type": "code",
      "metadata": {
        "id": "h6Be9Cs3SvyD"
      },
      "source": [
        "# Testing a brand new image\n",
        "flat_data = []\n",
        "url = input('Enter your url')\n",
        "img = imread(url)\n",
        "img_resized = resize(img,(150,150,3))\n",
        "flat_data.append(img_resized.flatten())\n",
        "flat_data = np.array(flat_data)\n",
        "print(img.shape)\n",
        "plt.imshow(img_resized)\n",
        "y_out = model.predict(flat_data)\n",
        "y_out = CATEGORIES[y_out[0]]\n",
        "print(f'PREDICTED OUTPUT: {y_out}')"
      ],
      "execution_count": null,
      "outputs": []
    },
    {
      "cell_type": "code",
      "metadata": {
        "id": "jMHzQW5GTjJi"
      },
      "source": [
        "!ls"
      ],
      "execution_count": null,
      "outputs": []
    },
    {
      "cell_type": "code",
      "metadata": {
        "id": "-qv8R75nTt8j"
      },
      "source": [
        "!pip install streamlit"
      ],
      "execution_count": null,
      "outputs": []
    },
    {
      "cell_type": "code",
      "metadata": {
        "id": "m1cI57qIT-_r"
      },
      "source": [
        "!pip install pyngrok\n",
        "from pyngrok import ngrok"
      ],
      "execution_count": null,
      "outputs": []
    },
    {
      "cell_type": "code",
      "metadata": {
        "id": "B3kqKZF1Zn2W"
      },
      "source": [
        "!ngrok"
      ],
      "execution_count": null,
      "outputs": []
    },
    {
      "cell_type": "code",
      "metadata": {
        "id": "xw_KY584Zsvc",
        "colab": {
          "base_uri": "https://localhost:8080/"
        },
        "outputId": "f9955529-6944-47f4-f36d-eecf62105d80"
      },
      "source": [
        "%%writefile app.py\n",
        "import streamlit as st\n",
        "import numpy as np\n",
        "from skimage.io import imread\n",
        "from skimage.transform import resize\n",
        "import pickle\n",
        "from PIL import Image\n",
        "st.title('Image classifier using Machine Learning')\n",
        "st.text('Upload The Image')\n",
        "model = pickle.load(open('img_model.p','rb'))\n",
        "uploading_file = st.file_uploader(\"Choose an Image ...\",type=\"jpg\")\n",
        "if uploading_file is not None:\n",
        "  img = Image.open(uploading_file)\n",
        "  st.image(img,caption = 'Uploaded Image')\n",
        "\n",
        "  if st.button('Predict'):\n",
        "    CATEGORIES = ['motorcycle','green grapes','green parrot','locomotive','tiger']\n",
        "    st.write('Result...')\n",
        "    flat_data=[]\n",
        "    img = np.array(img)\n",
        "    img_resized = resize(img,(150,150,3))\n",
        "    flat_data.append(img_resized.flatten())\n",
        "    flat_data = np.array(flat_data)\n",
        "    y_out = model.predict(flat_data)\n",
        "    y_out = CATEGORIES[y_out[0]]\n",
        "    st.title(f'PREDICTED OUTPUT: {y_out}')\n",
        "    q = model.predict_proba(flat_data)\n",
        "    for index, item in enumerate(CATEGORIES):\n",
        "      st.write(f'{item}:{q[0][index]*100}')"
      ],
      "execution_count": null,
      "outputs": [
        {
          "output_type": "stream",
          "text": [
            "Overwriting app.py\n",
            "time: 5.16 ms (started: 2021-06-22 10:36:05 +00:00)\n"
          ],
          "name": "stdout"
        }
      ]
    },
    {
      "cell_type": "code",
      "metadata": {
        "id": "bmRpGLCEbi6u",
        "colab": {
          "base_uri": "https://localhost:8080/"
        },
        "outputId": "18ae14bc-89a8-4785-86ef-09466a5cf251"
      },
      "source": [
        "!nohup streamlit run app.py &\n",
        "url = ngrok.connect(port='8501')\n",
        "url"
      ],
      "execution_count": 122,
      "outputs": [
        {
          "output_type": "stream",
          "text": [
            "nohup: appending output to 'nohup.out'\n"
          ],
          "name": "stdout"
        },
        {
          "output_type": "execute_result",
          "data": {
            "text/plain": [
              "<NgrokTunnel: \"http://f2313003d26b.ngrok.io\" -> \"http://localhost:80\">"
            ]
          },
          "metadata": {
            "tags": []
          },
          "execution_count": 122
        },
        {
          "output_type": "stream",
          "text": [
            "time: 427 ms (started: 2021-06-22 11:38:58 +00:00)\n"
          ],
          "name": "stdout"
        }
      ]
    },
    {
      "cell_type": "code",
      "metadata": {
        "id": "ZDN3qVl1ekVz"
      },
      "source": [
        "!streamlit run app.py --server.port=80"
      ],
      "execution_count": null,
      "outputs": []
    },
    {
      "cell_type": "code",
      "metadata": {
        "id": "0iCtOEXOkm_x",
        "colab": {
          "base_uri": "https://localhost:8080/"
        },
        "outputId": "65eb0e03-0bf3-45d5-fa38-535f5cf30d72"
      },
      "source": [
        "!streamlit run --server.port 80 app.py >/dev/null"
      ],
      "execution_count": 111,
      "outputs": [
        {
          "output_type": "stream",
          "text": [
            "time: 8.1 s (started: 2021-06-22 11:26:44 +00:00)\n"
          ],
          "name": "stdout"
        }
      ]
    }
  ]
}